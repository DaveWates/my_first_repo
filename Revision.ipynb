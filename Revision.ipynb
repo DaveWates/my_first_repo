{
  "nbformat": 4,
  "nbformat_minor": 0,
  "metadata": {
    "colab": {
      "name": "Revision.ipynb",
      "provenance": [],
      "collapsed_sections": [],
      "authorship_tag": "ABX9TyNUnAHaGEZ69fyjdcUBertv",
      "include_colab_link": true
    },
    "kernelspec": {
      "name": "python3",
      "display_name": "Python 3"
    },
    "language_info": {
      "name": "python"
    }
  },
  "cells": [
    {
      "cell_type": "markdown",
      "metadata": {
        "id": "view-in-github",
        "colab_type": "text"
      },
      "source": [
        "<a href=\"https://colab.research.google.com/github/DaveWates/my_first_repo/blob/main/Revision.ipynb\" target=\"_parent\"><img src=\"https://colab.research.google.com/assets/colab-badge.svg\" alt=\"Open In Colab\"/></a>"
      ]
    },
    {
      "cell_type": "code",
      "metadata": {
        "id": "IEevoUTP-qZw"
      },
      "source": [
        "# Exception\n",
        "\n",
        "* try\n",
        "* except\n",
        "* \n"
      ],
      "execution_count": null,
      "outputs": []
    },
    {
      "cell_type": "code",
      "metadata": {
        "colab": {
          "base_uri": "https://localhost:8080/"
        },
        "id": "fhIM7LpK-98w",
        "outputId": "1a441b1d-21f5-435e-a9e9-f3e5eb9403a4"
      },
      "source": [
        "try:\n",
        "   num1 = int(input(\"Please input a number \"))\n",
        "   num2 = int(input(\"Please input another number. \"))\n",
        "   print(\"Num1 divided by Num2 is \" +str(num1/num2))\n",
        "except TypeError as e:\n",
        "   print(e)"
      ],
      "execution_count": 4,
      "outputs": [
        {
          "output_type": "stream",
          "name": "stdout",
          "text": [
            "Please input a number 35\n",
            "Please input another number. 5\n",
            "Num1 divided by Num2 is 7.0\n"
          ]
        }
      ]
    },
    {
      "cell_type": "code",
      "metadata": {
        "colab": {
          "base_uri": "https://localhost:8080/"
        },
        "id": "sHHcRsBRBCYE",
        "outputId": "7ac066b2-f8b9-4c72-9d40-14e768997ec5"
      },
      "source": [
        "try:\n",
        "   num1 = int(input(\"Please input a number \"))\n",
        "   num2 = int(input(\"Please input another number. \"))\n",
        "   print(\"Num1 divided by Num2 is \" +str(num1/num2))\n",
        "except Exception as e:\n",
        "   print(e)"
      ],
      "execution_count": 5,
      "outputs": [
        {
          "output_type": "stream",
          "name": "stdout",
          "text": [
            "Please input a number 11\n",
            "Please input another number. 0\n",
            "division by zero\n"
          ]
        }
      ]
    },
    {
      "cell_type": "code",
      "metadata": {
        "id": "Q7roNccPBK9M"
      },
      "source": [
        "try:\n",
        "   num1 = int(input(\"Please input a number \"))\n",
        "   num2 = int(input(\"Please input another number. \"))\n",
        "   print(\"Num1 divided by Num2 is \" +str(num1/num2))\n",
        "except TypeError as e:\n",
        "   print(e)"
      ],
      "execution_count": null,
      "outputs": []
    },
    {
      "cell_type": "code",
      "metadata": {
        "id": "-XNkw3RAClF2"
      },
      "source": [
        ""
      ],
      "execution_count": null,
      "outputs": []
    },
    {
      "cell_type": "markdown",
      "metadata": {
        "id": "YidRCuk6CsBJ"
      },
      "source": [
        "# **Web Scraping Tables**"
      ]
    },
    {
      "cell_type": "markdown",
      "metadata": {
        "id": "-hkFFXzUCqhW"
      },
      "source": [
        ""
      ]
    },
    {
      "cell_type": "markdown",
      "metadata": {
        "id": "pfaW3mz2DL29"
      },
      "source": [
        "**bold text**"
      ]
    },
    {
      "cell_type": "code",
      "metadata": {
        "id": "bgEE-0_NDbBe"
      },
      "source": [
        ""
      ],
      "execution_count": null,
      "outputs": []
    },
    {
      "cell_type": "code",
      "metadata": {
        "id": "VO7XZl6XDa7r"
      },
      "source": [
        ""
      ],
      "execution_count": null,
      "outputs": []
    },
    {
      "cell_type": "markdown",
      "metadata": {
        "id": "WNm0yq_gDWRp"
      },
      "source": [
        "# Web Scraping\n",
        "\n",
        "\n",
        "*   **0.0  Install any packages needed**\n",
        "*   **1.0 Import Libraries**\n",
        "\n",
        "\n",
        "*   **3.0 Get the Web packages**\n",
        "*   **4.0 Extract to HTML**\n",
        "\n",
        "\n",
        "\n",
        "\n"
      ]
    },
    {
      "cell_type": "markdown",
      "metadata": {
        "id": "J8JIKk1LDeGZ"
      },
      "source": [
        "**Important** Libraries\n",
        "* **urlib**\n",
        "* **request**\n",
        "* **selenium**"
      ]
    },
    {
      "cell_type": "code",
      "metadata": {
        "id": "ePUnLBKSDrIF"
      },
      "source": [
        "!pip install kora -q\n",
        "\n",
        "#load packages\n",
        "from bs4 import BeautifulSoup\n",
        "from kora.selenium import wd"
      ],
      "execution_count": 7,
      "outputs": []
    },
    {
      "cell_type": "code",
      "metadata": {
        "id": "_9ED4c9bFMI2"
      },
      "source": [
        "URL = 'https://www.abs.gov.au/statistics/economy/key-indicators'\n",
        "wd.get(URL)"
      ],
      "execution_count": 14,
      "outputs": []
    },
    {
      "cell_type": "code",
      "metadata": {
        "id": "XPRaHT49KHVl"
      },
      "source": [
        "#load packages\n",
        "from kora.selenium import wd\n",
        "import pandas as pd\n",
        "\n",
        "# Get the page\n",
        "URL = 'https://www.abs.gov.au/statistics/economy/key-indicators'\n",
        "wd.get(URL)\n",
        "\n"
      ],
      "execution_count": 16,
      "outputs": []
    }
  ]
}