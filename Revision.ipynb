{
  "nbformat": 4,
  "nbformat_minor": 0,
  "metadata": {
    "colab": {
      "name": "Revision.ipynb",
      "provenance": [],
      "collapsed_sections": [],
      "authorship_tag": "ABX9TyNSiq7WSqcnaPY7cFA4ZNd2",
      "include_colab_link": true
    },
    "kernelspec": {
      "name": "python3",
      "display_name": "Python 3"
    },
    "language_info": {
      "name": "python"
    }
  },
  "cells": [
    {
      "cell_type": "markdown",
      "metadata": {
        "id": "view-in-github",
        "colab_type": "text"
      },
      "source": [
        "<a href=\"https://colab.research.google.com/github/DaveWates/my_first_repo/blob/main/Revision.ipynb\" target=\"_parent\"><img src=\"https://colab.research.google.com/assets/colab-badge.svg\" alt=\"Open In Colab\"/></a>"
      ]
    },
    {
      "cell_type": "code",
      "metadata": {
        "id": "IEevoUTP-qZw"
      },
      "source": [
        "# Exception\n",
        "\n",
        "* try\n",
        "* except\n",
        "* \n"
      ],
      "execution_count": null,
      "outputs": []
    },
    {
      "cell_type": "code",
      "metadata": {
        "colab": {
          "base_uri": "https://localhost:8080/"
        },
        "id": "fhIM7LpK-98w",
        "outputId": "1a441b1d-21f5-435e-a9e9-f3e5eb9403a4"
      },
      "source": [
        "try:\n",
        "   num1 = int(input(\"Please input a number \"))\n",
        "   num2 = int(input(\"Please input another number. \"))\n",
        "   print(\"Num1 divided by Num2 is \" +str(num1/num2))\n",
        "except TypeError as e:\n",
        "   print(e)"
      ],
      "execution_count": 4,
      "outputs": [
        {
          "output_type": "stream",
          "name": "stdout",
          "text": [
            "Please input a number 35\n",
            "Please input another number. 5\n",
            "Num1 divided by Num2 is 7.0\n"
          ]
        }
      ]
    },
    {
      "cell_type": "code",
      "metadata": {
        "colab": {
          "base_uri": "https://localhost:8080/"
        },
        "id": "sHHcRsBRBCYE",
        "outputId": "7ac066b2-f8b9-4c72-9d40-14e768997ec5"
      },
      "source": [
        "try:\n",
        "   num1 = int(input(\"Please input a number \"))\n",
        "   num2 = int(input(\"Please input another number. \"))\n",
        "   print(\"Num1 divided by Num2 is \" +str(num1/num2))\n",
        "except Exception as e:\n",
        "   print(e)"
      ],
      "execution_count": 5,
      "outputs": [
        {
          "output_type": "stream",
          "name": "stdout",
          "text": [
            "Please input a number 11\n",
            "Please input another number. 0\n",
            "division by zero\n"
          ]
        }
      ]
    },
    {
      "cell_type": "code",
      "metadata": {
        "id": "Q7roNccPBK9M"
      },
      "source": [
        "try:\n",
        "   num1 = int(input(\"Please input a number \"))\n",
        "   num2 = int(input(\"Please input another number. \"))\n",
        "   print(\"Num1 divided by Num2 is \" +str(num1/num2))\n",
        "except TypeError as e:\n",
        "   print(e)"
      ],
      "execution_count": null,
      "outputs": []
    }
  ]
}